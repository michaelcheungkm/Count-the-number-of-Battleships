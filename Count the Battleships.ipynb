{
 "cells": [
  {
   "cell_type": "markdown",
   "id": "648125c2",
   "metadata": {},
   "source": [
    "## Count the Battleships"
   ]
  },
  {
   "cell_type": "markdown",
   "id": "25cc9a6c",
   "metadata": {},
   "source": [
    "**There are three kinds of battleships: Destroyers, Submarines and Patrols in a game board of size $M \\times N$.** The objective is to count the number of Destroyers, Submarines and Patrols in the board."
   ]
  },
  {
   "cell_type": "code",
   "execution_count": 2,
   "id": "eacf2f87",
   "metadata": {},
   "outputs": [],
   "source": [
    "import numpy as np"
   ]
  },
  {
   "cell_type": "code",
   "execution_count": 1,
   "id": "ba315df6",
   "metadata": {},
   "outputs": [],
   "source": [
    "def convert_board(board):\n",
    "    N = len(board)\n",
    "    M = len(board[0])\n",
    "    A = np.zeros((N,M))\n",
    "    for i in range(N):\n",
    "        for j in range(M):\n",
    "            if board[i][j] == '#':\n",
    "                A[i,j] = 1\n",
    "            else:\n",
    "                A[i,j] = 0\n",
    "    return np.array(A)"
   ]
  },
  {
   "cell_type": "markdown",
   "id": "0bec69ae",
   "metadata": {},
   "source": [
    "### Battleship: Destroyers"
   ]
  },
  {
   "cell_type": "code",
   "execution_count": 23,
   "id": "9f996f33",
   "metadata": {},
   "outputs": [
    {
     "data": {
      "text/plain": [
       "array([[0., 1., 1., 0., 0.],\n",
       "       [1., 0., 1., 0., 0.],\n",
       "       [1., 0., 0., 0., 0.],\n",
       "       [1., 0., 0., 0., 0.]])"
      ]
     },
     "execution_count": 23,
     "metadata": {},
     "output_type": "execute_result"
    }
   ],
   "source": [
    "Destroyers = [\".##..\",\"#.#..\",\"#....\",\"#....\"]\n",
    "convert_board(Destroyers)"
   ]
  },
  {
   "cell_type": "code",
   "execution_count": 26,
   "id": "bd2509f5",
   "metadata": {},
   "outputs": [
    {
     "data": {
      "text/plain": [
       "array([[0., 0., 1., 1., 0.],\n",
       "       [0., 0., 1., 0., 0.],\n",
       "       [0., 0., 0., 0., 0.],\n",
       "       [1., 1., 1., 0., 0.]])"
      ]
     },
     "execution_count": 26,
     "metadata": {},
     "output_type": "execute_result"
    }
   ],
   "source": [
    "Destroyers = [\"..##.\",\"..#..\",\".....\",\"###..\"]\n",
    "convert_board(Destroyers)"
   ]
  },
  {
   "cell_type": "code",
   "execution_count": 27,
   "id": "9ab29df0",
   "metadata": {},
   "outputs": [
    {
     "data": {
      "text/plain": [
       "{'Destroyers': 2, 'Submarines': 0, 'Patrol Boats': 0.0}"
      ]
     },
     "execution_count": 27,
     "metadata": {},
     "output_type": "execute_result"
    }
   ],
   "source": [
    "count_the_shape(Destroyers)"
   ]
  },
  {
   "cell_type": "markdown",
   "id": "31240524",
   "metadata": {},
   "source": [
    "### Battleship: Submarines"
   ]
  },
  {
   "cell_type": "code",
   "execution_count": 29,
   "id": "8b5c684a",
   "metadata": {},
   "outputs": [
    {
     "data": {
      "text/plain": [
       "array([[0., 0., 1., 1., 0.],\n",
       "       [0., 0., 0., 0., 0.],\n",
       "       [0., 0., 0., 0., 0.],\n",
       "       [1., 1., 0., 0., 0.]])"
      ]
     },
     "execution_count": 29,
     "metadata": {},
     "output_type": "execute_result"
    }
   ],
   "source": [
    "Submarines = [\"..##.\",\".....\",\".....\",\"##...\"]\n",
    "convert_board(Submarines)"
   ]
  },
  {
   "cell_type": "code",
   "execution_count": 30,
   "id": "86605390",
   "metadata": {},
   "outputs": [
    {
     "data": {
      "text/plain": [
       "{'Destroyers': 0, 'Submarines': 2, 'Patrol Boats': 0.0}"
      ]
     },
     "execution_count": 30,
     "metadata": {},
     "output_type": "execute_result"
    }
   ],
   "source": [
    "count_the_shape(Submarines)"
   ]
  },
  {
   "cell_type": "markdown",
   "id": "04b1b219",
   "metadata": {},
   "source": [
    "### Battleship: Patrol Boats"
   ]
  },
  {
   "cell_type": "code",
   "execution_count": 33,
   "id": "8ba1eb47",
   "metadata": {},
   "outputs": [
    {
     "data": {
      "text/plain": [
       "array([[0., 1., 0., 0., 0.],\n",
       "       [0., 0., 0., 0., 1.],\n",
       "       [1., 0., 0., 0., 0.],\n",
       "       [0., 0., 1., 0., 0.]])"
      ]
     },
     "execution_count": 33,
     "metadata": {},
     "output_type": "execute_result"
    }
   ],
   "source": [
    "Patrols = [\".#...\",\"....#\",\"#....\",\"..#..\"]\n",
    "convert_board(Patrols)"
   ]
  },
  {
   "cell_type": "code",
   "execution_count": 34,
   "id": "d5548037",
   "metadata": {},
   "outputs": [
    {
     "data": {
      "text/plain": [
       "{'Destroyers': 0, 'Submarines': 0, 'Patrol Boats': 4.0}"
      ]
     },
     "execution_count": 34,
     "metadata": {},
     "output_type": "execute_result"
    }
   ],
   "source": [
    "count_the_shape(Patrols)"
   ]
  },
  {
   "cell_type": "code",
   "execution_count": 3,
   "id": "02bb5f28",
   "metadata": {},
   "outputs": [],
   "source": [
    "def two_by_two_filter(board):\n",
    "    N,M = board.shape\n",
    "    ct = 0\n",
    "    for i in range(N-1):\n",
    "        for j in range(M-1):\n",
    "            if board[i,j]+board[i,j+1]+board[i+1,j]+board[i+1,j+1]==3:\n",
    "                ct =ct+1\n",
    "    return ct"
   ]
  },
  {
   "cell_type": "code",
   "execution_count": 4,
   "id": "5150d0d7",
   "metadata": {},
   "outputs": [],
   "source": [
    "def three_by_one_filter(board):\n",
    "    N,M = board.shape\n",
    "    ct = 0\n",
    "    for i in range(N-2):\n",
    "        for j in range(M):\n",
    "            if board[i,j]+board[i+1,j]+board[i+2,j]==3:\n",
    "                ct = ct+1\n",
    "    return ct"
   ]
  },
  {
   "cell_type": "code",
   "execution_count": 5,
   "id": "a2d094b9",
   "metadata": {},
   "outputs": [],
   "source": [
    "def one_by_three_filter(board):\n",
    "    N,M = board.shape\n",
    "    ct = 0\n",
    "    for i in range(N):\n",
    "        for j in range(M-2):\n",
    "            if board[i,j]+board[i,j+1]+board[i,j+2] == 3:\n",
    "                ct = ct+1\n",
    "    return ct"
   ]
  },
  {
   "cell_type": "code",
   "execution_count": 6,
   "id": "5a397bbf",
   "metadata": {},
   "outputs": [],
   "source": [
    "def two_by_one_filter(board):\n",
    "    N,M = board.shape\n",
    "    ct = 0\n",
    "    for i in range(N-1):\n",
    "        for j in range(M):\n",
    "            if board[i,j]+board[i+1,j]==2:\n",
    "                ct = ct+1\n",
    "    return ct"
   ]
  },
  {
   "cell_type": "code",
   "execution_count": 7,
   "id": "42231548",
   "metadata": {},
   "outputs": [],
   "source": [
    "def one_by_two_filter(board):\n",
    "    N,M = board.shape\n",
    "    ct = 0\n",
    "    for i in range(N):\n",
    "        for j in range(M-1):\n",
    "            if board[i,j]+board[i,j+1]==2:\n",
    "                ct = ct+1\n",
    "    return ct"
   ]
  },
  {
   "cell_type": "code",
   "execution_count": 8,
   "id": "1e586f10",
   "metadata": {},
   "outputs": [],
   "source": [
    "def count_the_shape(board):\n",
    "    board = convert_board(board)\n",
    "    A = two_by_two_filter(board)\n",
    "    B = three_by_one_filter(board)\n",
    "    C = one_by_three_filter(board)\n",
    "    D = two_by_one_filter(board)\n",
    "    E = one_by_two_filter(board)\n",
    "    output = {}\n",
    "    output['Destroyers'] = A + B + C\n",
    "    output['Submarines'] = D - A - 2*B + E - A - 2*C\n",
    "    output['Patrol Boats'] = np.sum(board) - 3*output['Destroyers'] - 2*output['Submarines']\n",
    "    return output"
   ]
  },
  {
   "cell_type": "code",
   "execution_count": 11,
   "id": "def79189",
   "metadata": {},
   "outputs": [
    {
     "data": {
      "text/plain": [
       "{'Destroyers': 2, 'Submarines': 1, 'Patrol Boats': 2.0}"
      ]
     },
     "execution_count": 11,
     "metadata": {},
     "output_type": "execute_result"
    }
   ],
   "source": [
    "count_the_shape(board)"
   ]
  },
  {
   "cell_type": "code",
   "execution_count": 12,
   "id": "1d6b6376",
   "metadata": {},
   "outputs": [
    {
     "data": {
      "text/plain": [
       "array([[0., 1., 1., 0., 1.],\n",
       "       [1., 0., 1., 0., 0.],\n",
       "       [1., 0., 0., 0., 1.],\n",
       "       [1., 0., 1., 1., 0.]])"
      ]
     },
     "execution_count": 12,
     "metadata": {},
     "output_type": "execute_result"
    }
   ],
   "source": [
    "board = [\".##.#\",\"#.#..\",\"#...#\",\"#.##.\"]\n",
    "convert_board(board)"
   ]
  },
  {
   "cell_type": "code",
   "execution_count": 13,
   "id": "948b4d11",
   "metadata": {},
   "outputs": [
    {
     "data": {
      "text/plain": [
       "{'Destroyers': 2, 'Submarines': 1, 'Patrol Boats': 2.0}"
      ]
     },
     "execution_count": 13,
     "metadata": {},
     "output_type": "execute_result"
    }
   ],
   "source": [
    "count_the_shape(board)"
   ]
  },
  {
   "cell_type": "code",
   "execution_count": 14,
   "id": "ea6136b6",
   "metadata": {},
   "outputs": [
    {
     "data": {
      "text/plain": [
       "array([[0., 1., 0., 0., 1.],\n",
       "       [1., 1., 0., 0., 1.],\n",
       "       [0., 0., 0., 1., 0.]])"
      ]
     },
     "execution_count": 14,
     "metadata": {},
     "output_type": "execute_result"
    }
   ],
   "source": [
    "board = [\".#..#\",\"##..#\",\"...#.\"]\n",
    "convert_board(board)"
   ]
  },
  {
   "cell_type": "code",
   "execution_count": 15,
   "id": "cc92202e",
   "metadata": {},
   "outputs": [
    {
     "data": {
      "text/plain": [
       "{'Destroyers': 1, 'Submarines': 1, 'Patrol Boats': 1.0}"
      ]
     },
     "execution_count": 15,
     "metadata": {},
     "output_type": "execute_result"
    }
   ],
   "source": [
    "count_the_shape(board)"
   ]
  },
  {
   "cell_type": "code",
   "execution_count": 46,
   "id": "6c1f2b19",
   "metadata": {},
   "outputs": [
    {
     "data": {
      "text/plain": [
       "{'Destroyers': 2, 'Submarines': 0, 'Patrol Boats': 0.0}"
      ]
     },
     "execution_count": 46,
     "metadata": {},
     "output_type": "execute_result"
    }
   ],
   "source": [
    "board = [\"##.\",\"#.#\",\".##\"]\n",
    "count_the_shape(board)"
   ]
  },
  {
   "cell_type": "code",
   "execution_count": 47,
   "id": "35835235",
   "metadata": {},
   "outputs": [
    {
     "data": {
      "text/plain": [
       "{'Destroyers': 0, 'Submarines': 0, 'Patrol Boats': 0.0}"
      ]
     },
     "execution_count": 47,
     "metadata": {},
     "output_type": "execute_result"
    }
   ],
   "source": [
    "board = [\"...\",\"...\",\"...\"]\n",
    "count_the_shape(board)"
   ]
  },
  {
   "cell_type": "code",
   "execution_count": null,
   "id": "5ec84c18",
   "metadata": {},
   "outputs": [],
   "source": []
  }
 ],
 "metadata": {
  "kernelspec": {
   "display_name": "Python 3 (ipykernel)",
   "language": "python",
   "name": "python3"
  },
  "language_info": {
   "codemirror_mode": {
    "name": "ipython",
    "version": 3
   },
   "file_extension": ".py",
   "mimetype": "text/x-python",
   "name": "python",
   "nbconvert_exporter": "python",
   "pygments_lexer": "ipython3",
   "version": "3.9.7"
  }
 },
 "nbformat": 4,
 "nbformat_minor": 5
}
